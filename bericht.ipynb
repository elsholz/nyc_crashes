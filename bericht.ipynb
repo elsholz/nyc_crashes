{
 "cells": [
  {
   "cell_type": "markdown",
   "metadata": {},
   "source": [
    "# Big Data Analytics: NYC Crashes"
   ]
  },
  {
   "cell_type": "markdown",
   "metadata": {},
   "source": [
    "## Einleitung\n",
    "\n",
    "### Rahmenbedingungen des Projekts\n",
    "\n",
    "### Aufbau der Datenpipeline\n",
    "\n",
    "#### Installation der benötigten Docker-Container\n",
    "\n",
    "### Datenquelle\n",
    "\n",
    "### Analyseziele"
   ]
  },
  {
   "cell_type": "markdown",
   "metadata": {},
   "source": [
    "### Installation der Python Packages"
   ]
  },
  {
   "cell_type": "code",
   "execution_count": null,
   "metadata": {},
   "outputs": [],
   "source": [
    "pip install kafka-python pymongo"
   ]
  },
  {
   "cell_type": "markdown",
   "metadata": {},
   "source": [
    "### Importieren benötigter Module"
   ]
  },
  {
   "cell_type": "code",
   "execution_count": 1,
   "metadata": {},
   "outputs": [
    {
     "data": {
      "text/html": [
       "<style>.container { width:100% !important; }</style>"
      ],
      "text/plain": [
       "<IPython.core.display.HTML object>"
      ]
     },
     "metadata": {},
     "output_type": "display_data"
    }
   ],
   "source": [
    "from kafka import KafkaProducer, KafkaConsumer\n",
    "from pymongo import MongoClient\n",
    "import datetime as dt\n",
    "import requests\n",
    "import os\n",
    "from pathlib import Path\n",
    "\n",
    "from IPython.core.display import display, HTML\n",
    "display(HTML(\"<style>.container { width:100% !important; }</style>\"))"
   ]
  },
  {
   "cell_type": "markdown",
   "metadata": {},
   "source": [
    "### Herunterladen der Datensätze (H)\n",
    "Zum herunterladen der Datensätze werden die Daten von der Datenquelle mithilfe des nachfolgenden Python-Scripts heruntergeladen. Resultat sind drei `.csv`-Dateien die die Unfalldaten zeilenweise enthalten."
   ]
  },
  {
   "cell_type": "code",
   "execution_count": 9,
   "metadata": {},
   "outputs": [],
   "source": [
    "if not os.path.exists('data/'):\n",
    "    os.mkdir('data')\n",
    "\n",
    "for file_name, download_url in [\n",
    "    ('crashes.csv', 'https://data.cityofnewyork.us/api/views/h9gi-nx95/rows.csv?accessType=DOWNLOAD'),\n",
    "    ('vehicles.csv', 'https://data.cityofnewyork.us/api/views/bm4k-52h4/rows.csv?accessType=DOWNLOAD'),\n",
    "    ('persons.csv', 'https://data.cityofnewyork.us/api/views/f55k-p6yu/rows.csv?accessType=DOWNLOAD'),\n",
    "]:\n",
    "    if not os.path.isfile(fp:= (Path('data') / file_name)):\n",
    "        with open(fp, 'wb') as crash_file:\n",
    "            crash_file.write(requests.get(download_url).content)"
   ]
  },
  {
   "cell_type": "code",
   "execution_count": null,
   "metadata": {},
   "outputs": [],
   "source": []
  },
  {
   "cell_type": "code",
   "execution_count": null,
   "metadata": {},
   "outputs": [],
   "source": [
    "\n",
    "\n",
    "\n",
    "producer = KafkaProducer(bootstrap_servers=['localhost:9092'])\n",
    "\n",
    "dataset = open('Motor_Vehicle_Collisions_-_Crashes.csv', encoding='utf-8')\n",
    "rows = dataset.readlines()[1:]\n",
    "\n",
    "for i, row in enumerate(rows):\n",
    "        producer.send('nyc_crashes', value=bytearray(row, encoding='utf-8'), key=bytearray(str(i), encoding='utf-8'))\n",
    "\n",
    "consumer = KafkaConsumer('nyc_crashes', bootstrap_servers=['localhost:9092'], auto_offset_reset=\"earliest\")\n",
    "\n",
    "\n",
    "for msg in consumer:\n",
    "    print(msg.value.decode('utf-8'))"
   ]
  },
  {
   "cell_type": "code",
   "execution_count": null,
   "metadata": {},
   "outputs": [],
   "source": [
    "\n",
    "\n",
    "producer = KafkaProducer(bootstrap_servers=['localhost:9092'])\n",
    "\n",
    "for i in range(1, 13):\n",
    "    if i < 10:\n",
    "        i = \"0%s\" % i\n",
    "    dataset = open('./data/2019/yellow-cabs-2019-%s.csv' % i, encoding='utf-8')\n",
    "    rows = dataset.readlines()[1:]\n",
    "\n",
    "    for i, row in enumerate(rows):\n",
    "        producer.send('yellow-cabs', value=bytearray(row, encoding='utf-8'), key=bytearray(str(i), encoding='utf-8'))\n",
    "\n",
    "for i in range(1, 7):\n",
    "    if i < 10:\n",
    "        i = \"0%s\" % i\n",
    "    dataset = open('./data/2019/yellow-cabs-2020-%s.csv' % i, encoding='utf-8')\n",
    "    rows = dataset.readlines()[1:]\n",
    "\n",
    "    for i, row in enumerate(rows):\n",
    "        producer.send('yellow-cabs', value=bytearray(row, encoding='utf-8'), key=bytearray(str(i), encoding='utf-8'))"
   ]
  },
  {
   "cell_type": "code",
   "execution_count": null,
   "metadata": {},
   "outputs": [],
   "source": [
    "\n",
    "\n",
    "consumer = KafkaConsumer('yellow-cabs', bootstrap_servers=[\"\"])\n",
    "\n",
    "client = MongoClient(\"\")\n",
    "\n",
    "yellow_collection = client['datawarehouse']['bg-yellowcabs']\n",
    "yellow_collection.delete_many({})\n",
    "\n",
    "count = 0\n",
    "\n",
    "for msg in consumer: \n",
    "    count += 1\n",
    "    print('Received new message: %s' % count)\n",
    "    values = msg.value.decode('utf-8').split(',')\n",
    "    \n",
    "    yellow_collection.insert_one({\n",
    "        'pickup_datetime': dt.datetime.strptime(values[1], \"%Y-%m-%d %H:%M:%S\"),\n",
    "        'dropoff_datetime': dt.datetime.strptime(values[2], \"%Y-%m-%d %H:%M:%S\"),\n",
    "        'passenger_count': int(values[3]),\n",
    "        'trip_distance': float(values[4]),\n",
    "        'PULocationID': values[5],\n",
    "        'DOLocationID': values[6],\n",
    "        'payment_type': int(values[9]),\n",
    "        'fare_amount': float(values[10]),\n",
    "        'tip_amount': float(values[15]),\n",
    "        'total_amount': float(values[16])\n",
    "    })"
   ]
  }
 ],
 "metadata": {
  "kernelspec": {
   "display_name": "PyCharm (data_analytics)",
   "language": "python",
   "name": "pycharm-caae33a3"
  },
  "language_info": {
   "codemirror_mode": {
    "name": "ipython",
    "version": 3
   },
   "file_extension": ".py",
   "mimetype": "text/x-python",
   "name": "python",
   "nbconvert_exporter": "python",
   "pygments_lexer": "ipython3",
   "version": "3.8.3"
  }
 },
 "nbformat": 4,
 "nbformat_minor": 4
}
