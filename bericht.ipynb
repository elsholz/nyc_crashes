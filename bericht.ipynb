{
 "cells": [
  {
   "cell_type": "markdown",
   "metadata": {},
   "source": [
    "# Big Data Analytics: NYC Crashes"
   ]
  },
  {
   "cell_type": "markdown",
   "metadata": {},
   "source": [
    "## Einleitung\n",
    "\n",
    "### Rahmenbedingungen des Projekts\n",
    "\n",
    "### Aufbau der Datenpipeline\n",
    "\n",
    "#### Installation der benötigten Docker-Container\n",
    "\n",
    "### Datenquelle\n",
    "\n",
    "### Analyseziele"
   ]
  },
  {
   "cell_type": "markdown",
   "metadata": {},
   "source": [
    "### Installation der Python Packages"
   ]
  },
  {
   "cell_type": "code",
   "execution_count": null,
   "metadata": {},
   "outputs": [],
   "source": [
    "pip install kafka-python pymongo"
   ]
  },
  {
   "cell_type": "markdown",
   "metadata": {},
   "source": [
    "### Importieren benötigter Module"
   ]
  },
  {
   "cell_type": "code",
   "execution_count": 1,
   "metadata": {},
   "outputs": [
    {
     "data": {
      "text/html": [
       "<style>.container { width:100% !important; }</style>"
      ],
      "text/plain": [
       "<IPython.core.display.HTML object>"
      ]
     },
     "metadata": {},
     "output_type": "display_data"
    }
   ],
   "source": [
    "from kafka import KafkaProducer, KafkaConsumer\n",
    "from pymongo import MongoClient\n",
    "import datetime as dt\n",
    "import requests\n",
    "import os\n",
    "from pathlib import Path\n",
    "\n",
    "from IPython.core.display import display, HTML\n",
    "display(HTML(\"<style>.container { width:100% !important; }</style>\"))"
   ]
  },
  {
   "cell_type": "markdown",
   "metadata": {},
   "source": [
    "### Herunterladen der Datensätze (H)\n",
    "Zum herunterladen der Datensätze werden die Daten von der Datenquelle mithilfe des nachfolgenden Python-Scripts heruntergeladen. Resultat sind drei `.csv`-Dateien die die Unfalldaten zeilenweise enthalten."
   ]
  },
  {
   "cell_type": "code",
   "execution_count": 2,
   "metadata": {},
   "outputs": [],
   "source": [
    "if not os.path.exists('data/'):\n",
    "    os.mkdir('data')\n",
    "\n",
    "for file_name, download_url in [\n",
    "    ('crashes.csv', 'https://data.cityofnewyork.us/api/views/h9gi-nx95/rows.csv?accessType=DOWNLOAD'),\n",
    "    ('vehicles.csv', 'https://data.cityofnewyork.us/api/views/bm4k-52h4/rows.csv?accessType=DOWNLOAD'),\n",
    "    ('persons.csv', 'https://data.cityofnewyork.us/api/views/f55k-p6yu/rows.csv?accessType=DOWNLOAD'),\n",
    "]:\n",
    "    if not os.path.isfile(fp:= (Path('data') / file_name)):\n",
    "        with open(fp, 'wb') as crash_file:\n",
    "            crash_file.write(requests.get(download_url).content)"
   ]
  },
  {
   "cell_type": "code",
   "execution_count": null,
   "metadata": {},
   "outputs": [],
   "source": []
  },
  {
   "cell_type": "code",
   "execution_count": 3,
   "metadata": {},
   "outputs": [],
   "source": [
    "producer = KafkaProducer(bootstrap_servers=['localhost:9092'])\n",
    "\n",
    "dataset = open('Motor_Vehicle_Collisions_-_Crashes.csv', encoding='utf-8')\n",
    "rows = dataset.readlines()[1:]\n",
    "\n",
    "for i, row in enumerate(rows):\n",
    "        producer.send('nyc_crashes', value=bytearray(row, encoding='utf-8'), key=bytearray(str(i), encoding='utf-8'))"
   ]
  },
  {
   "cell_type": "code",
   "execution_count": 8,
   "metadata": {},
   "outputs": [
    {
     "name": "stdout",
     "output_type": "stream",
     "text": [
      "Received new message: 1\n",
      "Received new message: 2\n",
      "Received new message: 3\n",
      "Received new message: 4\n",
      "Received new message: 5\n",
      "Received new message: 6\n",
      "Received new message: 7\n",
      "Received new message: 8\n",
      "Received new message: 9\n",
      "Received new message: 10\n",
      "Received new message: 11\n",
      "Received new message: 12\n",
      "Received new message: 13\n",
      "Received new message: 14\n",
      "Received new message: 15\n",
      "Received new message: 16\n",
      "Received new message: 17\n",
      "Received new message: 18\n",
      "Received new message: 19\n",
      "Received new message: 20\n",
      "Received new message: 21\n",
      "Received new message: 22\n",
      "Received new message: 23\n",
      "Received new message: 24\n",
      "Received new message: 25\n",
      "Received new message: 26\n",
      "Received new message: 27\n",
      "Received new message: 28\n",
      "Received new message: 29\n",
      "Received new message: 30\n",
      "Received new message: 31\n",
      "Received new message: 32\n",
      "Received new message: 33\n",
      "Received new message: 34\n",
      "Received new message: 35\n",
      "Received new message: 36\n",
      "Received new message: 37\n",
      "Received new message: 38\n",
      "Received new message: 39\n",
      "Received new message: 40\n",
      "Received new message: 41\n",
      "Received new message: 42\n",
      "Received new message: 43\n",
      "Received new message: 44\n",
      "Received new message: 45\n"
     ]
    },
    {
     "ename": "ValueError",
     "evalue": "invalid literal for int() with base 10: ' DRIVEWAY            \"'",
     "output_type": "error",
     "traceback": [
      "\u001b[1;31m---------------------------------------------------------------------------\u001b[0m",
      "\u001b[1;31mValueError\u001b[0m                                Traceback (most recent call last)",
      "\u001b[1;32m<ipython-input-8-07d829967b53>\u001b[0m in \u001b[0;36m<module>\u001b[1;34m\u001b[0m\n\u001b[0;32m     24\u001b[0m         \u001b[1;34m'CROSS_STREET_NAME'\u001b[0m\u001b[1;33m:\u001b[0m \u001b[0mvalues\u001b[0m\u001b[1;33m[\u001b[0m\u001b[1;36m8\u001b[0m\u001b[1;33m]\u001b[0m\u001b[1;33m,\u001b[0m\u001b[1;33m\u001b[0m\u001b[1;33m\u001b[0m\u001b[0m\n\u001b[0;32m     25\u001b[0m         \u001b[1;34m'OFF_STREET_NAME'\u001b[0m\u001b[1;33m:\u001b[0m \u001b[0mvalues\u001b[0m\u001b[1;33m[\u001b[0m\u001b[1;36m9\u001b[0m\u001b[1;33m]\u001b[0m\u001b[1;33m,\u001b[0m\u001b[1;33m\u001b[0m\u001b[1;33m\u001b[0m\u001b[0m\n\u001b[1;32m---> 26\u001b[1;33m         \u001b[1;34m'NUMBER_OF_PERSONS_INJURED'\u001b[0m\u001b[1;33m:\u001b[0m \u001b[0mint\u001b[0m\u001b[1;33m(\u001b[0m\u001b[0mvalues\u001b[0m\u001b[1;33m[\u001b[0m\u001b[1;36m10\u001b[0m\u001b[1;33m]\u001b[0m\u001b[1;33m)\u001b[0m \u001b[1;32mif\u001b[0m \u001b[0mvalues\u001b[0m\u001b[1;33m[\u001b[0m\u001b[1;36m10\u001b[0m\u001b[1;33m]\u001b[0m \u001b[1;32melse\u001b[0m \u001b[1;32mNone\u001b[0m\u001b[1;33m,\u001b[0m\u001b[1;33m\u001b[0m\u001b[1;33m\u001b[0m\u001b[0m\n\u001b[0m\u001b[0;32m     27\u001b[0m         \u001b[1;34m'NUMBER_OF_PERSONS_KILLED'\u001b[0m\u001b[1;33m:\u001b[0m \u001b[0mint\u001b[0m\u001b[1;33m(\u001b[0m\u001b[0mvalues\u001b[0m\u001b[1;33m[\u001b[0m\u001b[1;36m11\u001b[0m\u001b[1;33m]\u001b[0m\u001b[1;33m)\u001b[0m \u001b[1;32mif\u001b[0m \u001b[0mvalues\u001b[0m\u001b[1;33m[\u001b[0m\u001b[1;36m11\u001b[0m\u001b[1;33m]\u001b[0m \u001b[1;32melse\u001b[0m \u001b[1;32mNone\u001b[0m\u001b[1;33m,\u001b[0m\u001b[1;33m\u001b[0m\u001b[1;33m\u001b[0m\u001b[0m\n\u001b[0;32m     28\u001b[0m         \u001b[1;34m'NUMBER_OF_PEDESTRIANS_INJURED'\u001b[0m\u001b[1;33m:\u001b[0m \u001b[0mint\u001b[0m\u001b[1;33m(\u001b[0m\u001b[0mvalues\u001b[0m\u001b[1;33m[\u001b[0m\u001b[1;36m12\u001b[0m\u001b[1;33m]\u001b[0m\u001b[1;33m)\u001b[0m \u001b[1;32mif\u001b[0m \u001b[0mvalues\u001b[0m\u001b[1;33m[\u001b[0m\u001b[1;36m12\u001b[0m\u001b[1;33m]\u001b[0m \u001b[1;32melse\u001b[0m \u001b[1;32mNone\u001b[0m\u001b[1;33m,\u001b[0m\u001b[1;33m\u001b[0m\u001b[1;33m\u001b[0m\u001b[0m\n",
      "\u001b[1;31mValueError\u001b[0m: invalid literal for int() with base 10: ' DRIVEWAY            \"'"
     ]
    }
   ],
   "source": [
    "client = MongoClient(\"localhost:27017\")\n",
    "\n",
    "crashes = client['nyc_crashes']['crashes']\n",
    "crashes.delete_many({})\n",
    "\n",
    "consumer = KafkaConsumer('nyc_crashes', bootstrap_servers=['localhost:9092'], auto_offset_reset=\"earliest\")\n",
    "\n",
    "count = 0\n",
    "\n",
    "for msg in consumer: \n",
    "    count += 1\n",
    "    print('Received new message: %s' % count)\n",
    "    values = msg.value.decode('utf-8').split(',')\n",
    "    \n",
    "    crashes.insert_one({\n",
    "        'CRASH_DATE': values[0],\n",
    "        'CRASH_TIME': values[1],\n",
    "        'BOROUGH': values[2],\n",
    "        'ZIP_CODE': int(values[3]) if values[3] else None,\n",
    "        'LATITUDE': values[4],\n",
    "        'LONGITUDE': values[5],\n",
    "        'LOCATION': values[6],\n",
    "        'ON_STREET_NAME': values[7],\n",
    "        'CROSS_STREET_NAME': values[8],\n",
    "        'OFF_STREET_NAME': values[9],\n",
    "        'NUMBER_OF_PERSONS_INJURED': int(values[10]) if values[10] else None,\n",
    "        'NUMBER_OF_PERSONS_KILLED': int(values[11]) if values[11] else None,\n",
    "        'NUMBER_OF_PEDESTRIANS_INJURED': int(values[12]) if values[12] else None,\n",
    "        'NUMBER_OF_PEDESTRIANS_KILLED': int(values[13]) if values[13] else None,\n",
    "        'NUMBER_OF_CYCLISTS_INJURED': int(values[14]) if values[14] else None,\n",
    "        'NUMBER_OF_CYCLISTS_KILLED': int(values[15]) if values[15] else None,\n",
    "        'NUMBER_OF_MOTORIST_INJURED': int(values[16]) if values[16] else None,\n",
    "        'NUMBER_OF_MOTORIST_KILLED': (values[17]),\n",
    "        'CONTRIBUTING_FACTOR_VEHICLE_1': values[18],\n",
    "        'CONTRIBUTING_FACTOR_VEHICLE_2': values[19],\n",
    "        'CONTRIBUTING_FACTOR_VEHICLE_3': values[20],\n",
    "        'CONTRIBUTING_FACTOR_VEHICLE_4': values[21],\n",
    "        'CONTRIBUTING_FACTOR_VEHICLE_5': values[22],\n",
    "        'COLLISION_ID': int(values[23]) if values[23] else None,\n",
    "        'VEHICLE_TYPE_CODE_1': values[24],\n",
    "        'VEHICLE_TYPE_CODE_2': values[25],\n",
    "        'VEHICLE_TYPE_CODE_3': values[26],\n",
    "        'VEHICLE_TYPE_CODE_4': values[27],\n",
    "        'VEHICLE_TYPE_CODE_5': values[28]\n",
    "    })"
   ]
  },
  {
   "cell_type": "code",
   "execution_count": null,
   "metadata": {},
   "outputs": [],
   "source": [
    "\n",
    "\n",
    "producer = KafkaProducer(bootstrap_servers=['localhost:9092'])\n",
    "\n",
    "for i in range(1, 13):\n",
    "    if i < 10:\n",
    "        i = \"0%s\" % i\n",
    "    dataset = open('./data/2019/yellow-cabs-2019-%s.csv' % i, encoding='utf-8')\n",
    "    rows = dataset.readlines()[1:]\n",
    "\n",
    "    for i, row in enumerate(rows):\n",
    "        producer.send('yellow-cabs', value=bytearray(row, encoding='utf-8'), key=bytearray(str(i), encoding='utf-8'))\n",
    "\n",
    "for i in range(1, 7):\n",
    "    if i < 10:\n",
    "        i = \"0%s\" % i\n",
    "    dataset = open('./data/2019/yellow-cabs-2020-%s.csv' % i, encoding='utf-8')\n",
    "    rows = dataset.readlines()[1:]\n",
    "\n",
    "    for i, row in enumerate(rows):\n",
    "        producer.send('yellow-cabs', value=bytearray(row, encoding='utf-8'), key=bytearray(str(i), encoding='utf-8'))"
   ]
  },
  {
   "cell_type": "code",
   "execution_count": null,
   "metadata": {},
   "outputs": [],
   "source": [
    "\n",
    "\n",
    "consumer = KafkaConsumer('yellow-cabs', bootstrap_servers=[\"\"])\n",
    "\n",
    "client = MongoClient(\"\")\n",
    "\n",
    "yellow_collection = client['datawarehouse']['bg-yellowcabs']\n",
    "yellow_collection.delete_many({})\n",
    "\n",
    "count = 0\n",
    "\n",
    "for msg in consumer: \n",
    "    count += 1\n",
    "    print('Received new message: %s' % count)\n",
    "    values = msg.value.decode('utf-8').split(',')\n",
    "    \n",
    "    yellow_collection.insert_one({\n",
    "        'pickup_datetime': dt.datetime.strptime(values[1], \"%Y-%m-%d %H:%M:%S\"),\n",
    "        'dropoff_datetime': dt.datetime.strptime(values[2], \"%Y-%m-%d %H:%M:%S\"),\n",
    "        'passenger_count': int(values[3]),\n",
    "        'trip_distance': float(values[4]),\n",
    "        'PULocationID': values[5],\n",
    "        'DOLocationID': values[6],\n",
    "        'payment_type': int(values[9]),\n",
    "        'fare_amount': float(values[10]),\n",
    "        'tip_amount': float(values[15]),\n",
    "        'total_amount': float(values[16])\n",
    "    })"
   ]
  }
 ],
 "metadata": {
  "kernelspec": {
   "display_name": "Python 3",
   "language": "python",
   "name": "python3"
  },
  "language_info": {
   "codemirror_mode": {
    "name": "ipython",
    "version": 3
   },
   "file_extension": ".py",
   "mimetype": "text/x-python",
   "name": "python",
   "nbconvert_exporter": "python",
   "pygments_lexer": "ipython3",
   "version": "3.8.3"
  }
 },
 "nbformat": 4,
 "nbformat_minor": 4
}
