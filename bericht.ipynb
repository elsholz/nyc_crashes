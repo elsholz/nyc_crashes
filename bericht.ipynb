{
 "cells": [
  {
   "cell_type": "markdown",
   "metadata": {},
   "source": [
    "# Big Data Analytics: NYC Crashes"
   ]
  },
  {
   "cell_type": "markdown",
   "metadata": {},
   "source": [
    "## Einleitung\n",
    "\n",
    "In den Straßen New York Citys strotzt es gerade so vor Verkehr, wodurch Verkehrsunfälle an der Tagesordnung stehen. Durch das NYC Open Data Project werden die erfassten Verkehrsunfälle für die Allgemeinheit zugänglich.\n",
    "\n",
    "Thema des Berichts und unseres Projekts ist die Nutzung dieser öffentlich zugänglichen Unfalldaten zur Analyse und visuellen Auswertung. \n",
    "\n",
    "### Aufbau der Data Pipeline\n",
    "\n",
    "Für das Projekt soll eine Data-Pipeline aufgebaut werden, die die Daten in die Datenbank lädt. \n",
    "Von dort aus sollen die Daten von einem Python-Script zur Analyse angefragt werden.\n",
    "\n",
    "Beteiligt an der Data-Pipeline ist eine Kafka-Instanz, wobei ein Python-Script einen Producer dafür darstellt und ein weiteres Python-Script einen Consumer. Das Producer-Script lädt die Daten zeilenweise aus der Datenquelle, einer CSV-Datei, in Kafka ein, während der Consumer die Daten aus Kafka ausliest und in die MongoDB schreibt. Das Analyse-Script bezieht die Daten wiederum aus der MongoDB.\n",
    "\n",
    "#### Installation der benötigten Docker-Container\n",
    "\n",
    "Das Script `start_docker.sh` startet den MongoDB Docker Container, beziehungsweise erstellt bei Bedarf einen neuen Docker Container. Dabei wird, falls noch kein Image für die DockerDB vorhanden ist, das neueste Heruntergeladen. \n",
    "\n",
    "Die weiteren benötigten Docker Container sind in der Docker-Compose-Konfiguration (`docker-compose.yml`) vorhanden.\n",
    "Diese können mit `docker-compose up` erstellt oder heruntergeladen werden. \n",
    "Mit `docker-compose down` können die gestarteten Container gestoppt werden, wobei auf die Vollendigung des Befehls gewartet werden sollte.\n",
    "\n",
    "Auf manchen Systemen befindet sich die Docker Engine nach stoppen der Docker Container mit `docker-compose down` in einem nicht-revertierbarem Fehlerzustand, wobei ein _Neustart des Computers_ unausweichlich ist. Weitere Informationen zu dem Fehler, wobei jedoch _keine der angegebenen Workarounds genutzt werden sollte_, findet sich [auf GitHub](https://github.com/docker/for-linux/issues/162). \n",
    "\n",
    "### Datenquelle\n",
    "Als Datenquellen dienen die vom NYC Open Data Project bereitgestellten Unfalldaten des NYPD. Die detaillierten Unfalldaten befinden sich in 3 unterschiedlichen Datenquellen die unter Anderem als CSV-Datei verfügbar sind: [Motor Vehicle Collisions](https://data.cityofnewyork.us/browse?Data-Collection_Data-Collection=Motor+Vehicle+Collisions&q=crashes).\n",
    "\n",
    "Enthalten in den Daten sind die am Unfall beteiligten Verkehrsteilnehmer, die Verletzten und Toten, sowie die genaue Position des Unfalls. Darüberhinaus sind noch weitere Daten in den Quellen enthalten, auf die teilweise im Analyseabschnitt genauer eingegangen wird.\n",
    "\n",
    "### Analyseziele\n",
    "Ziel der Analyse der Daten ist herauszufinden, welche saisonalen und lokalen Zusammenhänge festzustellen sind, wodurch sich besondere Hotspots im Stadtraum New Yorks lokalisieren lassen. Des weiteren soll ermittelt werden, welche Verkehrsteilnehmer besonders oft getötet oder verletzt werden, sowie an welchen Stellen sich gerade schwerwiegende Unfälle häufen. Anhand einer animierten Karte kann dadurch das Unfallgeschehen über die Zeit betrachtet werden."
   ]
  },
  {
   "cell_type": "markdown",
   "metadata": {},
   "source": [
    "### Installation der Python Packages"
   ]
  },
  {
   "cell_type": "code",
   "execution_count": null,
   "metadata": {},
   "outputs": [],
   "source": [
    "pip install kafka-python pymongo"
   ]
  },
  {
   "cell_type": "markdown",
   "metadata": {},
   "source": [
    "### Importieren benötigter Module"
   ]
  },
  {
   "cell_type": "code",
   "execution_count": null,
   "metadata": {},
   "outputs": [],
   "source": [
    "from kafka import KafkaProducer, KafkaConsumer\n",
    "from pymongo import MongoClient\n",
    "import datetime as dt\n",
    "import requests\n",
    "import os\n",
    "from pathlib import Path\n",
    "from multiprocessing import Process\n",
    "from time import sleep\n",
    "from data.schemas import schemas\n",
    "import platform\n",
    "windows = True if 'Windows' in platform.system() else False \n",
    "\n",
    "from IPython.core.display import display, HTML\n",
    "display(HTML(\"<style>.container { width:100% !important; }</style>\"))"
   ]
  },
  {
   "cell_type": "markdown",
   "metadata": {},
   "source": [
    "### Herunterladen der Datensätze\n",
    "Zum herunterladen der Datensätze werden die Daten von der Datenquelle mithilfe des nachfolgenden Python-Scripts heruntergeladen. Resultat sind drei `.csv`-Dateien die die Unfalldaten zeilenweise enthalten."
   ]
  },
  {
   "cell_type": "code",
   "execution_count": null,
   "metadata": {},
   "outputs": [],
   "source": [
    "if not os.path.exists('data/'):\n",
    "    os.mkdir('data')\n",
    "\n",
    "for file_name, download_url in [\n",
    "    ('crashes.csv', 'https://data.cityofnewyork.us/api/views/h9gi-nx95/rows.csv?accessType=DOWNLOAD'),\n",
    "    ('vehicles.csv', 'https://data.cityofnewyork.us/api/views/bm4k-52h4/rows.csv?accessType=DOWNLOAD'),\n",
    "    ('persons.csv', 'https://data.cityofnewyork.us/api/views/f55k-p6yu/rows.csv?accessType=DOWNLOAD'),\n",
    "]:\n",
    "    if not os.path.isfile(fp:= (Path('data') / file_name)):\n",
    "        with open(fp, 'wb') as crash_file:\n",
    "            crash_file.write(requests.get(download_url).content)"
   ]
  },
  {
   "cell_type": "markdown",
   "metadata": {},
   "source": [
    "## Einlesen der Daten und senden über den Producer"
   ]
  },
  {
   "cell_type": "markdown",
   "metadata": {},
   "source": [
    "### Produzieren der CSV-Daten in Kafka"
   ]
  },
  {
   "cell_type": "code",
   "execution_count": null,
   "metadata": {},
   "outputs": [],
   "source": [
    "def send_to_kafka(topic):\n",
    "    print(f'Started {topic} Producer process.')   \n",
    "    producer = KafkaProducer(bootstrap_servers=['localhost:9092'])\n",
    "    \n",
    "    with open((fn:=Path('data') / f'{topic}.csv')) as source:\n",
    "        for i, row in enumerate(source.readlines()):\n",
    "            if i:\n",
    "                producer.send(f'nyc_{topic}', value=bytearray(row, encoding='utf-8'), key=bytearray(str(i), encoding='utf-8'))\n",
    "            if not i % 100000 and i:\n",
    "                print(f'CSV → Kafka: Read {i} lines from {fn}.')\n",
    "    producer.close()\n",
    "    print(f'Producer for topic {topic} closed after {i} entries.')\n",
    "                \n",
    "producers = {\n",
    "    'crashes': Process(target=send_to_kafka, args=['crashes']),\n",
    "    'vehicles': Process(target=send_to_kafka, args=['vehicles']),\n",
    "    'persons': Process(target=send_to_kafka, args=['persons']),\n",
    "}"
   ]
  },
  {
   "cell_type": "markdown",
   "metadata": {},
   "source": [
    "### Konsumieren der Daten und Import in die Datenbank"
   ]
  },
  {
   "cell_type": "markdown",
   "metadata": {},
   "source": [
    "Zunächst werden die Daten aus den Topics `nyc_persons` und `nyc_vehicles` verarbeitet."
   ]
  },
  {
   "cell_type": "code",
   "execution_count": null,
   "metadata": {},
   "outputs": [],
   "source": [
    "def process_topic(topic, types):\n",
    "    with  MongoClient(\"mongodb://localhost:27017\") as client:\n",
    "        target_db = client['nyc_crashes'][topic]\n",
    "        counter = 0\n",
    "\n",
    "        consumer = KafkaConsumer(bootstrap_servers=['localhost:9092'], auto_offset_reset='earliest')\n",
    "\n",
    "        consumer.subscribe([f'nyc_{topic}'])\n",
    "\n",
    "        print(f'Started {topic} Consumer process.')\n",
    "        for row in consumer:\n",
    "            row = row.value.decode('utf-8').split(',')\n",
    "\n",
    "            counter += 1\n",
    "            if counter and not counter % 100000:\n",
    "                print(f'Kafka → MongoDB: Read {counter} lines from Kafka topic {topic}')\n",
    "            res = {}\n",
    "            for idx, (db_field, field_type) in enumerate(types.items()):\n",
    "                try:\n",
    "                    if row_data := row[idx]:\n",
    "                        res[db_field] = field_type.__call__(row_data) if not isinstance(row_data, field_type) else row_data\n",
    "                    else:\n",
    "                        res[db_field] = None   \n",
    "                except Exception as e:\n",
    "                    res[db_field] = None\n",
    "\n",
    "            # make sure the document is identifiable\n",
    "            if res['_id']:\n",
    "                try:\n",
    "                    target_db.insert_one(res)\n",
    "                except Exception as e:\n",
    "                    pass\n",
    "            \n",
    "        print(f'Finished consuming {topic}!')\n",
    "\n",
    "            \n",
    "consumers = {\n",
    "    'vehicles': Process(target=process_topic, args=(\n",
    "        'vehicles', schemas['vehicles']\n",
    "    )),\n",
    "    'persons': Process(target=process_topic, args=(\n",
    "        'persons', schemas['persons']\n",
    "    ))\n",
    "}"
   ]
  },
  {
   "cell_type": "markdown",
   "metadata": {},
   "source": [
    "### Starten der Prozesse\n",
    "Nun werden die Prozesse zum Produzieren der Daten aus `vehicles.csv`, `persons.csv`, und `crashes.csv` und die Prozesse zum Konsumieren der Topics `nyc_vehicles` und `nyc_persons` gestartet."
   ]
  },
  {
   "cell_type": "code",
   "execution_count": null,
   "metadata": {},
   "outputs": [],
   "source": [
    "if windows:\n",
    "    send_to_kafka('vehicles')\n",
    "    process_topic('vehicles', schemas['vehicles'])\n",
    "    send_to_kafka('persons')\n",
    "    process_topic('persons', schemas['persons'])\n",
    "    send_to_kafka('crashes')\n",
    "else:\n",
    "    for topic in 'persons vehicles crashes'.split(' '):\n",
    "        producers[topic].start()\n",
    "    for topic in 'persons vehicles'.split(' '):\n",
    "        consumers[topic].start()"
   ]
  },
  {
   "cell_type": "markdown",
   "metadata": {},
   "source": [
    "Danach können diese Daten mit den Daten aus `nyc_crashes` gejoined werden."
   ]
  },
  {
   "cell_type": "code",
   "execution_count": null,
   "metadata": {},
   "outputs": [],
   "source": [
    "def process_crashes():\n",
    "    with  MongoClient(\"mongodb://localhost:27017\") as client:\n",
    "        target_db = client['nyc_crashes'][topic]\n",
    "        consumer = KafkaConsumer('nyc_crashes', bootstrap_servers=['localhost:9092'], auto_offset_reset=\"earliest\")\n",
    "        counter = 0\n",
    "\n",
    "        for row in consumer: \n",
    "            row = row.value.decode('utf-8').split(',')\n",
    "            counter += 1\n",
    "            if counter and not counter % 100000:\n",
    "                print(counter)\n",
    "            res = {}\n",
    "            for idx, (db_field, field_type) in enumerate(schemas['crashes'].items()):\n",
    "                try:\n",
    "                    if row_data := row[idx]:\n",
    "                        res[db_field] = field_type.__call__(row_data) if not isinstance(row_data, field_type) else row_data\n",
    "                    else:\n",
    "                        res[db_field] = None\n",
    "                except Exception as e:\n",
    "                    res[db_field] = None\n",
    "\n",
    "            # make sure the document is identifiable\n",
    "            if res['_id']:\n",
    "                res['vehicles'] = list(db_by_topic['vehicles'].find({'_id': {'$eq': res['_id']}}))\n",
    "                res['persons'] = list(db_by_topic['persons'].find({'_id': {'$eq': res['_id']}}))\n",
    "\n",
    "                db_by_topic['crashes'].insert_one(res)\n",
    "\n",
    "        print(f'Finished consuming {topic}!')\n",
    "\n",
    "consumers['crashes'] = Process(target=process_crashes)"
   ]
  },
  {
   "cell_type": "markdown",
   "metadata": {},
   "source": [
    "### Starten des Join-Prozesses\n",
    "Im letzten Schritt muss der Prozess gestartet werden, der das joinen der beiden Tabellen `vehicles` und `persons` in die Daten des Topics `nyc_crashes` durchführt."
   ]
  },
  {
   "cell_type": "code",
   "execution_count": null,
   "metadata": {},
   "outputs": [],
   "source": [
    "assert False, 'breakpoint'"
   ]
  },
  {
   "cell_type": "code",
   "execution_count": null,
   "metadata": {},
   "outputs": [],
   "source": [
    "if windows:\n",
    "    process_crashes()\n",
    "else:\n",
    "    consumers['crashes'].start()"
   ]
  }
 ],
 "metadata": {
  "kernelspec": {
   "display_name": "PyCharm (data_analytics)",
   "language": "python",
   "name": "pycharm-caae33a3"
  },
  "language_info": {
   "codemirror_mode": {
    "name": "ipython",
    "version": 3
   },
   "file_extension": ".py",
   "mimetype": "text/x-python",
   "name": "python",
   "nbconvert_exporter": "python",
   "pygments_lexer": "ipython3",
   "version": "3.8.3"
  }
 },
 "nbformat": 4,
 "nbformat_minor": 4
}
