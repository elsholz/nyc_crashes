{
 "cells": [
  {
   "cell_type": "code",
   "execution_count": 1,
   "metadata": {},
   "outputs": [],
   "source": [
    "import pandas as pd\n",
    "import pprint\n",
    "import ipywidgets as widgets\n",
    "from ipywidgets import interact\n",
    "import matplotlib.pyplot as plt\n",
    "import math\n",
    "from pylab import rcParams\n",
    "rcParams['figure.figsize'] = 25, 13"
   ]
  },
  {
   "cell_type": "code",
   "execution_count": 2,
   "metadata": {},
   "outputs": [
    {
     "data": {
      "text/html": [
       "<style>.container { width:100% !important; }</style>"
      ],
      "text/plain": [
       "<IPython.core.display.HTML object>"
      ]
     },
     "metadata": {},
     "output_type": "display_data"
    }
   ],
   "source": [
    "from pymongo import MongoClient\n",
    "\n",
    "from IPython.core.display import display, HTML\n",
    "[display(HTML(\"<style>.container { width:100% !important; }</style>\"))];"
   ]
  },
  {
   "cell_type": "code",
   "execution_count": 3,
   "metadata": {},
   "outputs": [],
   "source": [
    "with MongoClient('mongodb://localhost:27017/') as client:\n",
    "    database = client[\"nyc_crashes\"]\n",
    "    crashes = database.crashes\n",
    "    crashes_by_year = database.crashes_by_year"
   ]
  },
  {
   "cell_type": "code",
   "execution_count": 160,
   "metadata": {},
   "outputs": [],
   "source": [
    "def yearly(Year):\n",
    "    data = crashes_by_year.find_one({\"_id\": Year})['by_month']\n",
    "    \n",
    "    x_values = data.keys()\n",
    "    y_values_injured = []\n",
    "    y_values_killed = []\n",
    "    for month in data:\n",
    "        injured = 0\n",
    "        killed = 0\n",
    "        injured = data[month]['pedestrians']['injured'] + data[month]['cyclists']['injured'] + data[month]['motorists']['injured']\n",
    "        killed = data[month]['pedestrians']['killed'] + data[month]['cyclists']['killed'] + data[month]['motorists']['killed']\n",
    "        y_values_injured += [injured]\n",
    "        y_values_killed += [killed]\n",
    "    \n",
    "    show_graph_injury(x_values, y_values_injured, y_values_killed)\n",
    "    return"
   ]
  },
  {
   "cell_type": "code",
   "execution_count": 161,
   "metadata": {},
   "outputs": [],
   "source": [
    "def yearly_sum(Year):\n",
    "    data = crashes_by_year.find_one({\"_id\": Year})['by_month']\n",
    "    \n",
    "    x_values = data.keys()\n",
    "    y_values_pedestrians = []\n",
    "    y_values_cyclists = []\n",
    "    y_values_motorists = []\n",
    "    for month in data:\n",
    "        pedestrians = 0\n",
    "        cyclists = 0\n",
    "        motorists = 0\n",
    "        pedestrians = data[month]['pedestrians']['sum']\n",
    "        cyclists = data[month]['cyclists']['sum']\n",
    "        motorists = data[month]['motorists']['sum']\n",
    "        y_values_pedestrians += [pedestrians]\n",
    "        y_values_cyclists += [cyclists]\n",
    "        y_values_motorists += [motorists]\n",
    "    \n",
    "    show_graph_type(x_values, y_values_pedestrians, y_values_cyclists, y_values_motorists)\n",
    "    return"
   ]
  },
  {
   "cell_type": "code",
   "execution_count": 162,
   "metadata": {},
   "outputs": [],
   "source": [
    "def show_graph_injury(x_values, y_values_injured, y_values_killed):\n",
    "    plt.figure(figsize=(20,10))\n",
    "\n",
    "    plt.bar(x_values, y_values_killed, color=(0.62,0.07,0.04))\n",
    "    plt.bar(x_values, y_values_injured, bottom=y_values_killed, color=(0.80,0.52,0.00))\n",
    "    plt.show()"
   ]
  },
  {
   "cell_type": "code",
   "execution_count": 257,
   "metadata": {},
   "outputs": [],
   "source": [
    "def show_graph_type(x_values, y_values_pedestrians, y_values_cyclists, y_values_motorists):\n",
    "    plt.figure(figsize=(20,10))\n",
    "    \n",
    "    p1 = plt.bar(x_values, y_values_motorists, color=(0.80,0.50,0.20))\n",
    "    p2 = plt.bar(x_values, y_values_cyclists, bottom=y_values_motorists, color=(0.75,0.75,0.75))\n",
    "    bottom_gold = [a+b for a,b in zip(y_values_cyclists, y_values_motorists)]\n",
    "    p3 = plt.bar(x_values, y_values_pedestrians, bottom=bottom_gold, color=(1.00,0.84,0.00))\n",
    "    \n",
    "    plt.ylabel('Anzahl Unfaelle')\n",
    "    plt.title('Unfaelle pro Monat nach Art')\n",
    "    plt.legend((p3[0], p2[0], p1[0]), ('Pedestrians', 'Cyclists', 'Motorists'))\n",
    "    plt.show()"
   ]
  },
  {
   "cell_type": "code",
   "execution_count": 258,
   "metadata": {},
   "outputs": [
    {
     "data": {
      "application/vnd.jupyter.widget-view+json": {
       "model_id": "942ca3f9734a4bdbb52534f0c27f9e2f",
       "version_major": 2,
       "version_minor": 0
      },
      "text/plain": [
       "interactive(children=(Dropdown(description='Year', options=('2020', '2019', '2018', '2016', '2013'), value='20…"
      ]
     },
     "metadata": {},
     "output_type": "display_data"
    }
   ],
   "source": [
    "interact(yearly_sum, Year=[data['_id'] for data in crashes_by_year.find().sort('_id', -1)]);"
   ]
  },
  {
   "cell_type": "code",
   "execution_count": 245,
   "metadata": {},
   "outputs": [
    {
     "data": {
      "application/vnd.jupyter.widget-view+json": {
       "model_id": "ee94b05c926845318d354c877283d6d7",
       "version_major": 2,
       "version_minor": 0
      },
      "text/plain": [
       "interactive(children=(Dropdown(description='Year', options=('2020', '2019', '2018', '2016', '2013'), value='20…"
      ]
     },
     "metadata": {},
     "output_type": "display_data"
    }
   ],
   "source": [
    "interact(yearly, Year=[data['_id'] for data in crashes_by_year.find().sort('_id', -1)]);"
   ]
  },
  {
   "cell_type": "code",
   "execution_count": 143,
   "metadata": {},
   "outputs": [],
   "source": [
    "year_var\n",
    "def monthly(Month):\n",
    "    global year_var\n",
    "    data = crashes_by_year.find_one({\"_id\": str(year_var)})['by_month'][str(Month)]\n",
    "    \n",
    "    \n",
    "    #show_graph(x_values, y_values_injured, y_values_killed)\n",
    "    return data"
   ]
  },
  {
   "cell_type": "code",
   "execution_count": 144,
   "metadata": {},
   "outputs": [],
   "source": [
    "def out2(Year):\n",
    "    global year_var\n",
    "    year_var = int(Year)\n",
    "    interact(monthly, Month=list(range(1, 13)));\n",
    "    #return interact(out3, Month=(1,12));\n",
    "    #return interact(monthly, Month=widgets.IntSlider(min=1,max=12,step=1,value=1))\n",
    "    return"
   ]
  },
  {
   "cell_type": "code",
   "execution_count": 145,
   "metadata": {},
   "outputs": [
    {
     "data": {
      "application/vnd.jupyter.widget-view+json": {
       "model_id": "7b660a95aa8141fdaae7e02a2c1f066a",
       "version_major": 2,
       "version_minor": 0
      },
      "text/plain": [
       "interactive(children=(Dropdown(description='Year', options=('2020', '2019', '2018', '2016', '2013'), value='20…"
      ]
     },
     "metadata": {},
     "output_type": "display_data"
    }
   ],
   "source": [
    "interact(out2, Year=[data['_id'] for data in crashes_by_year.find().sort('_id', -1)]);"
   ]
  },
  {
   "cell_type": "code",
   "execution_count": null,
   "metadata": {},
   "outputs": [],
   "source": [
    "from datetime import datetime\n",
    "\n",
    "start_date = datetime(2018, 4, 24)\n",
    "end_date = datetime(2018, 5, 24)\n",
    "\n",
    "dates = pd.date_range(start_date, end_date, freq='B')\n",
    "\n",
    "options = [(date.strftime('%b %Y '), date) for date in dates]\n",
    "index = (0, len(options)-1)\n",
    "\n",
    "selection_range_slider = widgets.SelectionRangeSlider(\n",
    "    options=options,\n",
    "    index=index,\n",
    "    description='Dates',\n",
    "    orientation='horizontal',\n",
    "    layout={'width': '500px'}\n",
    ")\n",
    "\n",
    "selection_range_slider"
   ]
  },
  {
   "cell_type": "code",
   "execution_count": null,
   "metadata": {},
   "outputs": [],
   "source": [
    "import datetime\n",
    "dates = [datetime.date(2015, i, 1) for i in range(1, 13)]\n",
    "options = [(i.strftime('%b'), i) for i in dates]\n",
    "widgets.SelectionRangeSlider(\n",
    "    options=options,\n",
    "    index=(0, 11),\n",
    "    description='2015',\n",
    "    disabled=False\n",
    ")"
   ]
  },
  {
   "cell_type": "code",
   "execution_count": null,
   "metadata": {},
   "outputs": [],
   "source": []
  }
 ],
 "metadata": {
  "kernelspec": {
   "display_name": "Python 3",
   "language": "python",
   "name": "python3"
  },
  "language_info": {
   "codemirror_mode": {
    "name": "ipython",
    "version": 3
   },
   "file_extension": ".py",
   "mimetype": "text/x-python",
   "name": "python",
   "nbconvert_exporter": "python",
   "pygments_lexer": "ipython3",
   "version": "3.8.3"
  }
 },
 "nbformat": 4,
 "nbformat_minor": 4
}
