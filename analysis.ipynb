{
 "cells": [
  {
   "cell_type": "code",
   "execution_count": 1,
   "metadata": {},
   "outputs": [],
   "source": [
    "import pandas as pd\n",
    "import pprint\n",
    "import ipywidgets as widgets\n",
    "from ipywidgets import interact\n",
    "import matplotlib.pyplot as plt\n",
    "import math\n",
    "from pylab import rcParams\n",
    "rcParams['figure.figsize'] = 25, 13"
   ]
  },
  {
   "cell_type": "code",
   "execution_count": 2,
   "metadata": {},
   "outputs": [
    {
     "data": {
      "text/html": [
       "<style>.container { width:100% !important; }</style>"
      ],
      "text/plain": [
       "<IPython.core.display.HTML object>"
      ]
     },
     "metadata": {},
     "output_type": "display_data"
    }
   ],
   "source": [
    "from pymongo import MongoClient\n",
    "\n",
    "from IPython.core.display import display, HTML\n",
    "[display(HTML(\"<style>.container { width:100% !important; }</style>\"))];"
   ]
  },
  {
   "cell_type": "code",
   "execution_count": 3,
   "metadata": {},
   "outputs": [],
   "source": [
    "with MongoClient('mongodb://localhost:27017/') as client:\n",
    "    database = client[\"nyc_crashes\"]\n",
    "    crashes = database.crashes\n",
    "    crashes_by_year = database.crashes_by_year"
   ]
  },
  {
   "cell_type": "code",
   "execution_count": 67,
   "metadata": {},
   "outputs": [],
   "source": [
    "def yearly(Year):\n",
    "    data = crashes_by_year.find_one({\"_id\": Year})['by_month']\n",
    "    \n",
    "    x_values = data.keys()\n",
    "    y_values_injured = []\n",
    "    y_values_killed = []\n",
    "    for month in data:\n",
    "        injured = 0\n",
    "        killed = 0\n",
    "        injured = data[month]['pedestrians']['injured'] + data[month]['cyclists']['injured'] + data[month]['motorists']['injured']\n",
    "        killed = data[month]['pedestrians']['killed'] + data[month]['cyclists']['killed'] + data[month]['motorists']['killed']\n",
    "        y_values_injured += [injured]\n",
    "        y_values_killed += [killed]\n",
    "    \n",
    "    show_graph(x_values, y_values_injured, y_values_killed)\n",
    "    return"
   ]
  },
  {
   "cell_type": "code",
   "execution_count": 54,
   "metadata": {},
   "outputs": [],
   "source": [
    "def show_graph(x_values, y_values_injured, y_values_killed):\n",
    "    plt.figure(figsize=(20,10))\n",
    "\n",
    "    plt.bar(x_values, y_values_killed, color=(0.62,0.07,0.04))\n",
    "    plt.bar(x_values, y_values_injured, bottom=y_values_killed, color=(0.80,0.52,0.00))\n",
    "    plt.show()"
   ]
  },
  {
   "cell_type": "code",
   "execution_count": 76,
   "metadata": {},
   "outputs": [
    {
     "data": {
      "application/vnd.jupyter.widget-view+json": {
       "model_id": "777d4da975d8407e962d869e0e868ccf",
       "version_major": 2,
       "version_minor": 0
      },
      "text/plain": [
       "interactive(children=(Dropdown(description='Year', options=('2020', '2019', '2018', '2016', '2013'), value='20…"
      ]
     },
     "metadata": {},
     "output_type": "display_data"
    }
   ],
   "source": [
    "interact(yearly, Year=[data['_id'] for data in crashes_by_year.find().sort('_id', -1)]);"
   ]
  },
  {
   "cell_type": "code",
   "execution_count": 38,
   "metadata": {},
   "outputs": [],
   "source": [
    "def monthly(Month):\n",
    "    \n",
    "    return Month"
   ]
  },
  {
   "cell_type": "code",
   "execution_count": 44,
   "metadata": {},
   "outputs": [],
   "source": [
    "def out2(Year):\n",
    "    #return interact(out3, Month=list(range(1, 13)));\n",
    "    #return interact(out3, Month=(1,12));\n",
    "    #return interact(monthly, Month=widgets.IntSlider(min=1,max=12,step=1,value=1))\n",
    "    dates = [datetime.date(2015, i, 1) for i in range(1, 13)]\n",
    "    options = [(i.strftime('%b'), i) for i in dates]\n",
    "    widgets.SelectionRangeSlider(\n",
    "        options=options,\n",
    "        index=(0, 11),\n",
    "        description='2015',\n",
    "        disabled=False\n",
    "    )\n",
    "    return"
   ]
  },
  {
   "cell_type": "code",
   "execution_count": 45,
   "metadata": {},
   "outputs": [
    {
     "data": {
      "application/vnd.jupyter.widget-view+json": {
       "model_id": "9116fa6b5c1b4778a50ab6419d2e8cc6",
       "version_major": 2,
       "version_minor": 0
      },
      "text/plain": [
       "interactive(children=(Dropdown(description='Year', options=('2019', '2020', '2013', '2016', '2018'), value='20…"
      ]
     },
     "metadata": {},
     "output_type": "display_data"
    }
   ],
   "source": [
    "import datetime\n",
    "interact(out2, Year=[data['_id'] for data in crashes_by_year.find()]);"
   ]
  },
  {
   "cell_type": "code",
   "execution_count": 30,
   "metadata": {},
   "outputs": [
    {
     "data": {
      "application/vnd.jupyter.widget-view+json": {
       "model_id": "05ce00f0e4a34cf59ee66aedd4ece0cb",
       "version_major": 2,
       "version_minor": 0
      },
      "text/plain": [
       "SelectionRangeSlider(description='Dates', index=(0, 22), layout=Layout(width='500px'), options=(('Apr 2018 ', …"
      ]
     },
     "metadata": {},
     "output_type": "display_data"
    }
   ],
   "source": [
    "from datetime import datetime\n",
    "\n",
    "start_date = datetime(2018, 4, 24)\n",
    "end_date = datetime(2018, 5, 24)\n",
    "\n",
    "dates = pd.date_range(start_date, end_date, freq='B')\n",
    "\n",
    "options = [(date.strftime('%b %Y '), date) for date in dates]\n",
    "index = (0, len(options)-1)\n",
    "\n",
    "selection_range_slider = widgets.SelectionRangeSlider(\n",
    "    options=options,\n",
    "    index=index,\n",
    "    description='Dates',\n",
    "    orientation='horizontal',\n",
    "    layout={'width': '500px'}\n",
    ")\n",
    "\n",
    "selection_range_slider"
   ]
  },
  {
   "cell_type": "code",
   "execution_count": 32,
   "metadata": {},
   "outputs": [
    {
     "data": {
      "application/vnd.jupyter.widget-view+json": {
       "model_id": "6dae74d61b14436083efb160ac2b52c6",
       "version_major": 2,
       "version_minor": 0
      },
      "text/plain": [
       "SelectionRangeSlider(description='2015', index=(0, 11), options=(('Jan', datetime.date(2015, 1, 1)), ('Feb', d…"
      ]
     },
     "metadata": {},
     "output_type": "display_data"
    }
   ],
   "source": [
    "import datetime\n",
    "dates = [datetime.date(2015, i, 1) for i in range(1, 13)]\n",
    "options = [(i.strftime('%b'), i) for i in dates]\n",
    "widgets.SelectionRangeSlider(\n",
    "    options=options,\n",
    "    index=(0, 11),\n",
    "    description='2015',\n",
    "    disabled=False\n",
    ")"
   ]
  },
  {
   "cell_type": "code",
   "execution_count": null,
   "metadata": {},
   "outputs": [],
   "source": []
  }
 ],
 "metadata": {
  "kernelspec": {
   "display_name": "Python 3",
   "language": "python",
   "name": "python3"
  },
  "language_info": {
   "codemirror_mode": {
    "name": "ipython",
    "version": 3
   },
   "file_extension": ".py",
   "mimetype": "text/x-python",
   "name": "python",
   "nbconvert_exporter": "python",
   "pygments_lexer": "ipython3",
   "version": "3.8.3"
  }
 },
 "nbformat": 4,
 "nbformat_minor": 4
}
